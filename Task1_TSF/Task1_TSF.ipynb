{
 "cells": [
  {
   "cell_type": "markdown",
   "id": "ace51c94",
   "metadata": {},
   "source": [
    "\n",
    "<font color='grey' size= '5.5'>The Sparks Foundation </font>\n",
    "\n",
    "<font color='blue' size= '5.5'>Name: Chandana Ramisetty</font>\n",
    "\n",
    "<font color='blue' size= '5.5'>Task 1 : Prediction using Supervised Machine Learning </font>"
   ]
  },
  {
   "cell_type": "markdown",
   "id": "1bfcf38f",
   "metadata": {},
   "source": [
    "\n",
    "<font color='green' size= '5'>Importing necessary libraries</font>"
   ]
  },
  {
   "cell_type": "code",
   "execution_count": 1,
   "id": "adc5910f",
   "metadata": {},
   "outputs": [],
   "source": [
    "import pandas as pd\n",
    "import numpy as np\n",
    "import matplotlib.pyplot as plt\n",
    "import seaborn as sns\n",
    "from warnings import filterwarnings\n",
    "from sklearn.model_selection import train_test_split\n",
    "from sklearn.linear_model import LinearRegression\n",
    "from sklearn.metrics import mean_squared_error, r2_score\n",
    "from scipy import stats"
   ]
  },
  {
   "cell_type": "markdown",
   "id": "91db8c87",
   "metadata": {},
   "source": [
    "\n",
    "<font color='green' size= '5'>Step 1: Define the problem </font>"
   ]
  },
  {
   "cell_type": "markdown",
   "id": "3617176e",
   "metadata": {},
   "source": [
    "### In this Regression task we will predict the percentage of marks that a student is expected to score based upon the number of hours they studied.This is a simple linear regression task as it involves just two variables."
   ]
  },
  {
   "cell_type": "markdown",
   "id": "5ea9e556",
   "metadata": {},
   "source": [
    "<font color='green' size= '5'>Step 2: Gather and Prepare data [ Data Cleaning and Preprocessing] </font>"
   ]
  },
  {
   "cell_type": "markdown",
   "id": "39877657",
   "metadata": {},
   "source": [
    "#### Importing Data "
   ]
  },
  {
   "cell_type": "code",
   "execution_count": 2,
   "id": "7d22ab59",
   "metadata": {},
   "outputs": [],
   "source": [
    "data = pd.read_csv(\"https://raw.githubusercontent.com/AdiPersonalWorks/Random/master/student_scores%20-%20student_scores.csv\")"
   ]
  },
  {
   "cell_type": "markdown",
   "id": "adc755c2",
   "metadata": {},
   "source": [
    "#### Dropping Null values"
   ]
  },
  {
   "cell_type": "code",
   "execution_count": 3,
   "id": "b11b0acd",
   "metadata": {},
   "outputs": [
    {
     "data": {
      "text/html": [
       "<div>\n",
       "<style scoped>\n",
       "    .dataframe tbody tr th:only-of-type {\n",
       "        vertical-align: middle;\n",
       "    }\n",
       "\n",
       "    .dataframe tbody tr th {\n",
       "        vertical-align: top;\n",
       "    }\n",
       "\n",
       "    .dataframe thead th {\n",
       "        text-align: right;\n",
       "    }\n",
       "</style>\n",
       "<table border=\"1\" class=\"dataframe\">\n",
       "  <thead>\n",
       "    <tr style=\"text-align: right;\">\n",
       "      <th></th>\n",
       "      <th>Hours</th>\n",
       "      <th>Scores</th>\n",
       "    </tr>\n",
       "  </thead>\n",
       "  <tbody>\n",
       "    <tr>\n",
       "      <th>0</th>\n",
       "      <td>2.5</td>\n",
       "      <td>21</td>\n",
       "    </tr>\n",
       "    <tr>\n",
       "      <th>1</th>\n",
       "      <td>5.1</td>\n",
       "      <td>47</td>\n",
       "    </tr>\n",
       "    <tr>\n",
       "      <th>2</th>\n",
       "      <td>3.2</td>\n",
       "      <td>27</td>\n",
       "    </tr>\n",
       "    <tr>\n",
       "      <th>3</th>\n",
       "      <td>8.5</td>\n",
       "      <td>75</td>\n",
       "    </tr>\n",
       "    <tr>\n",
       "      <th>4</th>\n",
       "      <td>3.5</td>\n",
       "      <td>30</td>\n",
       "    </tr>\n",
       "    <tr>\n",
       "      <th>5</th>\n",
       "      <td>1.5</td>\n",
       "      <td>20</td>\n",
       "    </tr>\n",
       "    <tr>\n",
       "      <th>6</th>\n",
       "      <td>9.2</td>\n",
       "      <td>88</td>\n",
       "    </tr>\n",
       "    <tr>\n",
       "      <th>7</th>\n",
       "      <td>5.5</td>\n",
       "      <td>60</td>\n",
       "    </tr>\n",
       "    <tr>\n",
       "      <th>8</th>\n",
       "      <td>8.3</td>\n",
       "      <td>81</td>\n",
       "    </tr>\n",
       "    <tr>\n",
       "      <th>9</th>\n",
       "      <td>2.7</td>\n",
       "      <td>25</td>\n",
       "    </tr>\n",
       "    <tr>\n",
       "      <th>10</th>\n",
       "      <td>7.7</td>\n",
       "      <td>85</td>\n",
       "    </tr>\n",
       "    <tr>\n",
       "      <th>11</th>\n",
       "      <td>5.9</td>\n",
       "      <td>62</td>\n",
       "    </tr>\n",
       "    <tr>\n",
       "      <th>12</th>\n",
       "      <td>4.5</td>\n",
       "      <td>41</td>\n",
       "    </tr>\n",
       "    <tr>\n",
       "      <th>13</th>\n",
       "      <td>3.3</td>\n",
       "      <td>42</td>\n",
       "    </tr>\n",
       "    <tr>\n",
       "      <th>14</th>\n",
       "      <td>1.1</td>\n",
       "      <td>17</td>\n",
       "    </tr>\n",
       "    <tr>\n",
       "      <th>15</th>\n",
       "      <td>8.9</td>\n",
       "      <td>95</td>\n",
       "    </tr>\n",
       "    <tr>\n",
       "      <th>16</th>\n",
       "      <td>2.5</td>\n",
       "      <td>30</td>\n",
       "    </tr>\n",
       "    <tr>\n",
       "      <th>17</th>\n",
       "      <td>1.9</td>\n",
       "      <td>24</td>\n",
       "    </tr>\n",
       "    <tr>\n",
       "      <th>18</th>\n",
       "      <td>6.1</td>\n",
       "      <td>67</td>\n",
       "    </tr>\n",
       "    <tr>\n",
       "      <th>19</th>\n",
       "      <td>7.4</td>\n",
       "      <td>69</td>\n",
       "    </tr>\n",
       "    <tr>\n",
       "      <th>20</th>\n",
       "      <td>2.7</td>\n",
       "      <td>30</td>\n",
       "    </tr>\n",
       "    <tr>\n",
       "      <th>21</th>\n",
       "      <td>4.8</td>\n",
       "      <td>54</td>\n",
       "    </tr>\n",
       "    <tr>\n",
       "      <th>22</th>\n",
       "      <td>3.8</td>\n",
       "      <td>35</td>\n",
       "    </tr>\n",
       "    <tr>\n",
       "      <th>23</th>\n",
       "      <td>6.9</td>\n",
       "      <td>76</td>\n",
       "    </tr>\n",
       "    <tr>\n",
       "      <th>24</th>\n",
       "      <td>7.8</td>\n",
       "      <td>86</td>\n",
       "    </tr>\n",
       "  </tbody>\n",
       "</table>\n",
       "</div>"
      ],
      "text/plain": [
       "    Hours  Scores\n",
       "0     2.5      21\n",
       "1     5.1      47\n",
       "2     3.2      27\n",
       "3     8.5      75\n",
       "4     3.5      30\n",
       "5     1.5      20\n",
       "6     9.2      88\n",
       "7     5.5      60\n",
       "8     8.3      81\n",
       "9     2.7      25\n",
       "10    7.7      85\n",
       "11    5.9      62\n",
       "12    4.5      41\n",
       "13    3.3      42\n",
       "14    1.1      17\n",
       "15    8.9      95\n",
       "16    2.5      30\n",
       "17    1.9      24\n",
       "18    6.1      67\n",
       "19    7.4      69\n",
       "20    2.7      30\n",
       "21    4.8      54\n",
       "22    3.8      35\n",
       "23    6.9      76\n",
       "24    7.8      86"
      ]
     },
     "execution_count": 3,
     "metadata": {},
     "output_type": "execute_result"
    }
   ],
   "source": [
    "data.dropna()"
   ]
  },
  {
   "cell_type": "markdown",
   "id": "96c53fc2",
   "metadata": {},
   "source": [
    "#### Counting Null values"
   ]
  },
  {
   "cell_type": "code",
   "execution_count": 4,
   "id": "5cb3cd38",
   "metadata": {},
   "outputs": [
    {
     "data": {
      "text/plain": [
       "Hours     0\n",
       "Scores    0\n",
       "dtype: int64"
      ]
     },
     "execution_count": 4,
     "metadata": {},
     "output_type": "execute_result"
    }
   ],
   "source": [
    "data.isnull().sum()\n",
    "#No null values present"
   ]
  },
  {
   "cell_type": "markdown",
   "id": "e3c7b168",
   "metadata": {},
   "source": [
    "<font color='green' size= '5'>Step 3: Explore the data [ Summary of the data and Visualize it]</font>"
   ]
  },
  {
   "cell_type": "code",
   "execution_count": 5,
   "id": "ce0f0d92",
   "metadata": {},
   "outputs": [
    {
     "name": "stdout",
     "output_type": "stream",
     "text": [
      "Data Description:            Hours     Scores\n",
      "count  25.000000  25.000000\n",
      "mean    5.012000  51.480000\n",
      "std     2.525094  25.286887\n",
      "min     1.100000  17.000000\n",
      "25%     2.700000  30.000000\n",
      "50%     4.800000  47.000000\n",
      "75%     7.400000  75.000000\n",
      "max     9.200000  95.000000\n"
     ]
    }
   ],
   "source": [
    "print(\"Data Description:\", data.describe())"
   ]
  },
  {
   "cell_type": "code",
   "execution_count": 6,
   "id": "53ebea0c",
   "metadata": {},
   "outputs": [
    {
     "data": {
      "text/html": [
       "<div>\n",
       "<style scoped>\n",
       "    .dataframe tbody tr th:only-of-type {\n",
       "        vertical-align: middle;\n",
       "    }\n",
       "\n",
       "    .dataframe tbody tr th {\n",
       "        vertical-align: top;\n",
       "    }\n",
       "\n",
       "    .dataframe thead th {\n",
       "        text-align: right;\n",
       "    }\n",
       "</style>\n",
       "<table border=\"1\" class=\"dataframe\">\n",
       "  <thead>\n",
       "    <tr style=\"text-align: right;\">\n",
       "      <th></th>\n",
       "      <th>Hours</th>\n",
       "      <th>Scores</th>\n",
       "    </tr>\n",
       "  </thead>\n",
       "  <tbody>\n",
       "    <tr>\n",
       "      <th>0</th>\n",
       "      <td>2.5</td>\n",
       "      <td>21</td>\n",
       "    </tr>\n",
       "    <tr>\n",
       "      <th>1</th>\n",
       "      <td>5.1</td>\n",
       "      <td>47</td>\n",
       "    </tr>\n",
       "    <tr>\n",
       "      <th>2</th>\n",
       "      <td>3.2</td>\n",
       "      <td>27</td>\n",
       "    </tr>\n",
       "    <tr>\n",
       "      <th>3</th>\n",
       "      <td>8.5</td>\n",
       "      <td>75</td>\n",
       "    </tr>\n",
       "    <tr>\n",
       "      <th>4</th>\n",
       "      <td>3.5</td>\n",
       "      <td>30</td>\n",
       "    </tr>\n",
       "  </tbody>\n",
       "</table>\n",
       "</div>"
      ],
      "text/plain": [
       "   Hours  Scores\n",
       "0    2.5      21\n",
       "1    5.1      47\n",
       "2    3.2      27\n",
       "3    8.5      75\n",
       "4    3.5      30"
      ]
     },
     "execution_count": 6,
     "metadata": {},
     "output_type": "execute_result"
    }
   ],
   "source": [
    "data.head(5)"
   ]
  },
  {
   "cell_type": "code",
   "execution_count": 7,
   "id": "0404b6b0",
   "metadata": {},
   "outputs": [
    {
     "name": "stdout",
     "output_type": "stream",
     "text": [
      "<class 'pandas.core.frame.DataFrame'>\n",
      "RangeIndex: 25 entries, 0 to 24\n",
      "Data columns (total 2 columns):\n",
      " #   Column  Non-Null Count  Dtype  \n",
      "---  ------  --------------  -----  \n",
      " 0   Hours   25 non-null     float64\n",
      " 1   Scores  25 non-null     int64  \n",
      "dtypes: float64(1), int64(1)\n",
      "memory usage: 528.0 bytes\n"
     ]
    }
   ],
   "source": [
    "data.info()"
   ]
  },
  {
   "cell_type": "markdown",
   "id": "a0e799bd",
   "metadata": {},
   "source": [
    "#### scatter plot to understand the relation between the variables and to visualize the data"
   ]
  },
  {
   "cell_type": "code",
   "execution_count": 8,
   "id": "e6d6265f",
   "metadata": {},
   "outputs": [
    {
     "data": {
      "image/png": "[encoded data removed]",
      "text/plain": [
       "<Figure size 720x432 with 1 Axes>"
      ]
     },
     "metadata": {
      "needs_background": "light"
     },
     "output_type": "display_data"
    }
   ],
   "source": [
    "plt.figure(figsize=(10, 6)) #height = 6 inches, width = 8 inches\n",
    "sns.scatterplot(x='Hours', y='Scores', data=data)\n",
    "plt.title('Hours vs. Scores Scatter Plot')\n",
    "plt.show()"
   ]
  },
  {
   "cell_type": "markdown",
   "id": "cea56745",
   "metadata": {},
   "source": [
    "#### Heatmap to understand the correlation between the variables, The columns are positively correlated as per the map"
   ]
  },
  {
   "cell_type": "code",
   "execution_count": 9,
   "id": "c2039d69",
   "metadata": {},
   "outputs": [
    {
     "data": {
      "image/png": "[encoded data removed]",
      "text/plain": [
       "<Figure size 576x432 with 2 Axes>"
      ]
     },
     "metadata": {
      "needs_background": "light"
     },
     "output_type": "display_data"
    }
   ],
   "source": [
    "plt.figure(figsize=(8, 6))\n",
    "sns.heatmap(data.corr(),annot=True, cmap='coolwarm')\n",
    "plt.title('Correlation Heatmap')\n",
    "plt.show()"
   ]
  },
  {
   "cell_type": "markdown",
   "id": "23dab9f4",
   "metadata": {},
   "source": [
    "#### Histogram to know the distribution and frequency of scores"
   ]
  },
  {
   "cell_type": "code",
   "execution_count": 10,
   "id": "aa248fe5",
   "metadata": {},
   "outputs": [
    {
     "data": {
      "image/png": "[encoded data removed]",
      "text/plain": [
       "<Figure size 648x360 with 1 Axes>"
      ]
     },
     "metadata": {
      "needs_background": "light"
     },
     "output_type": "display_data"
    }
   ],
   "source": [
    "plt.figure(figsize=(9, 5))\n",
    "sns.histplot(data['Scores'], bins=10, kde=True)\n",
    "plt.title('Scores Histogram')\n",
    "plt.show()"
   ]
  },
  {
   "cell_type": "markdown",
   "id": "35ef9fbd",
   "metadata": {},
   "source": [
    "<font color='green' size= '5'>Step 4: Handling Outliers</font>"
   ]
  },
  {
   "cell_type": "markdown",
   "id": "8b662b54",
   "metadata": {},
   "source": [
    "##### Z_scores to calculate standard deviation of the data points which are away from the Mean. It helps to identify very extreme or unusual values\n",
    "#### The condition (z_scores < 3) selects only those rows where the z-score is less than 3. This threshold of 3 is commonly used as a cutoff to identify outliers."
   ]
  },
  {
   "cell_type": "code",
   "execution_count": 11,
   "id": "34fa21c7",
   "metadata": {},
   "outputs": [
    {
     "name": "stdout",
     "output_type": "stream",
     "text": [
      "0    -1.230223\n",
      "1    -0.180820\n",
      "2    -0.988053\n",
      "3     0.949306\n",
      "4    -0.866968\n",
      "5    -1.270585\n",
      "6     1.474008\n",
      "7     0.343881\n",
      "8     1.191476\n",
      "9    -1.068777\n",
      "10    1.352923\n",
      "11    0.424605\n",
      "12   -0.422990\n",
      "13   -0.382629\n",
      "14   -1.391670\n",
      "15    1.756539\n",
      "16   -0.866968\n",
      "17   -1.109138\n",
      "18    0.626413\n",
      "19    0.707136\n",
      "20   -0.866968\n",
      "21    0.101711\n",
      "22   -0.665160\n",
      "23    0.989668\n",
      "24    1.393284\n",
      "Name: Scores, dtype: float64\n"
     ]
    }
   ],
   "source": [
    "z_scores = stats.zscore(data['Scores'])\n",
    "print(z_scores)\n",
    "data = data[(z_scores < 3)] "
   ]
  },
  {
   "cell_type": "markdown",
   "id": "68db55e2",
   "metadata": {},
   "source": [
    "#### Finding outliers using boxplot\n",
    "#### Analysis: No outliers detected"
   ]
  },
  {
   "cell_type": "code",
   "execution_count": 12,
   "id": "719bf4ca",
   "metadata": {},
   "outputs": [
    {
     "data": {
      "image/png": "[encoded data removed]",
      "text/plain": [
       "<Figure size 576x432 with 1 Axes>"
      ]
     },
     "metadata": {
      "needs_background": "light"
     },
     "output_type": "display_data"
    }
   ],
   "source": [
    "plt.figure(figsize=(8, 6))\n",
    "sns.boxplot(data=data , x='Scores')\n",
    "plt.title('Scores Boxplot')\n",
    "plt.show()"
   ]
  },
  {
   "cell_type": "markdown",
   "id": "c220fa16",
   "metadata": {},
   "source": [
    "<font color='green' size= '5'>Step 5: Prepare the data</font>"
   ]
  },
  {
   "cell_type": "markdown",
   "id": "91d26a7d",
   "metadata": {},
   "source": [
    "#### Creating feature and target variable"
   ]
  },
  {
   "cell_type": "code",
   "execution_count": 13,
   "id": "3f674379",
   "metadata": {},
   "outputs": [],
   "source": [
    "x = data.drop('Scores', axis = 1).values\n",
    "y = data['Scores'].values"
   ]
  },
  {
   "cell_type": "markdown",
   "id": "3e99619b",
   "metadata": {},
   "source": [
    "<font color='green' size= '5'>Step 6: Select a Model</font>"
   ]
  },
  {
   "cell_type": "code",
   "execution_count": 14,
   "id": "2697d637",
   "metadata": {},
   "outputs": [],
   "source": [
    "model = LinearRegression()"
   ]
  },
  {
   "cell_type": "markdown",
   "id": "583c0135",
   "metadata": {},
   "source": [
    "<font color='green' size= '5'>Step 7: Train the Model</font>"
   ]
  },
  {
   "cell_type": "markdown",
   "id": "829e2239",
   "metadata": {},
   "source": [
    "#### 20% of the data will be used for testing and 80% for training"
   ]
  },
  {
   "cell_type": "code",
   "execution_count": 15,
   "id": "fd7694a2",
   "metadata": {},
   "outputs": [
    {
     "data": {
      "text/plain": [
       "LinearRegression()"
      ]
     },
     "execution_count": 15,
     "metadata": {},
     "output_type": "execute_result"
    }
   ],
   "source": [
    "X_train, X_test, y_train, y_test = train_test_split(x, y, test_size=0.2, random_state=42)\n",
    "model.fit(X_train, y_train)"
   ]
  },
  {
   "cell_type": "markdown",
   "id": "00fb752d",
   "metadata": {},
   "source": [
    "<font color='green' size= '5'>Step 8: Evaluate the Model</font>"
   ]
  },
  {
   "cell_type": "code",
   "execution_count": 16,
   "id": "615e4fb8",
   "metadata": {},
   "outputs": [
    {
     "name": "stdout",
     "output_type": "stream",
     "text": [
      "[83.18814104 27.03208774 27.03208774 69.63323162 59.95115347]\n"
     ]
    }
   ],
   "source": [
    "y_pred = model.predict(X_test)\n",
    "print(y_pred)"
   ]
  },
  {
   "cell_type": "markdown",
   "id": "44b94e8e",
   "metadata": {},
   "source": [
    "#### Mean squared error (MSE) and coefficient of determination (R-squared) between y_test and y_pred. Comparing Predicted values and Actual values"
   ]
  },
  {
   "cell_type": "code",
   "execution_count": 17,
   "id": "5256419a",
   "metadata": {},
   "outputs": [
    {
     "name": "stdout",
     "output_type": "stream",
     "text": [
      "Mean Squared Error: 18.943211722315272\n",
      "Model Accuracy or performance: 0.9678055545167994\n"
     ]
    }
   ],
   "source": [
    "mse = mean_squared_error(y_test, y_pred)\n",
    "r2 = r2_score(y_test, y_pred)\n",
    "print(\"Mean Squared Error:\", mse)\n",
    "print(\"Model Accuracy or performance:\",r2)"
   ]
  },
  {
   "cell_type": "markdown",
   "id": "83a0fd94",
   "metadata": {},
   "source": [
    "<font color='green' size= '5'>Step 9: Validate and Test</font>"
   ]
  },
  {
   "cell_type": "markdown",
   "id": "3c23488a",
   "metadata": {},
   "source": [
    "#### If three students have studied for 9.2, 5.2, 3.9 hours respectively, What would be their corresponding predicted scores?"
   ]
  },
  {
   "cell_type": "code",
   "execution_count": 18,
   "id": "1b16cf54",
   "metadata": {},
   "outputs": [
    {
     "name": "stdout",
     "output_type": "stream",
     "text": [
      "Hours: 9.2 Predicted Score: 91.90201137489214\n",
      "Hours: 5.2 Predicted Score: 53.17369875706936\n",
      "Hours: 3.9 Predicted Score: 40.58699715627695\n"
     ]
    }
   ],
   "source": [
    "new_hours = [[9.2], [5.2], [3.9]]  # Example test data\n",
    "predicted_scores = model.predict(new_hours)\n",
    "for hours, score in zip(new_hours, predicted_scores):\n",
    "    print(\"Hours:\", hours[0], \"Predicted Score:\", score)"
   ]
  }
 ],
 "metadata": {
  "kernelspec": {
   "display_name": "Python 3 (ipykernel)",
   "language": "python",
   "name": "python3"
  },
  "language_info": {
   "codemirror_mode": {
    "name": "ipython",
    "version": 3
   },
   "file_extension": ".py",
   "mimetype": "text/x-python",
   "name": "python",
   "nbconvert_exporter": "python",
   "pygments_lexer": "ipython3",
   "version": "3.9.12"
  }
 },
 "nbformat": 4,
 "nbformat_minor": 5
}
