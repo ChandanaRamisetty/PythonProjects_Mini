{
 "cells": [
  {
   "cell_type": "markdown",
   "id": "78ac4719",
   "metadata": {},
   "source": [
    "Webscraping and saving data in csv file"
   ]
  },
  {
   "cell_type": "code",
   "execution_count": 1,
   "id": "08fd5938",
   "metadata": {},
   "outputs": [],
   "source": [
    "from bs4 import BeautifulSoup\n",
    "import requests\n",
    "from csv import writer"
   ]
  },
  {
   "cell_type": "markdown",
   "id": "441a1ce3",
   "metadata": {},
   "source": [
    "Opening URL"
   ]
  },
  {
   "cell_type": "code",
   "execution_count": 2,
   "id": "8d5e95bf",
   "metadata": {},
   "outputs": [],
   "source": [
    "url=\"https://www.pararius.com/apartments/amsterdam?ac=1\""
   ]
  },
  {
   "cell_type": "markdown",
   "id": "866a9d4a",
   "metadata": {},
   "source": [
    "Get All the data in the page using request.get()"
   ]
  },
  {
   "cell_type": "code",
   "execution_count": 3,
   "id": "85d64fa7",
   "metadata": {},
   "outputs": [],
   "source": [
    "GetAllContents=requests.get(url)"
   ]
  },
  {
   "cell_type": "markdown",
   "id": "98b361f2",
   "metadata": {},
   "source": [
    "Parse HTML elements using BeautifulSoup"
   ]
  },
  {
   "cell_type": "code",
   "execution_count": 4,
   "id": "41e7b48a",
   "metadata": {},
   "outputs": [],
   "source": [
    "soup=BeautifulSoup(GetAllContents.content, 'html.parser')"
   ]
  },
  {
   "cell_type": "markdown",
   "id": "82fd595e",
   "metadata": {},
   "source": [
    "Find section in the parsed objects and loop out through all the sections in the page"
   ]
  },
  {
   "cell_type": "code",
   "execution_count": 5,
   "id": "8ef93fe0",
   "metadata": {},
   "outputs": [],
   "source": [
    "AllData=soup.find_all(\"section\",class_=\"listing-search-item\")"
   ]
  },
  {
   "cell_type": "markdown",
   "id": "d1a5b14d",
   "metadata": {},
   "source": [
    "Open csv file in write mode and insert header then loop through the section data, save the fields you needed in the respective variables, appending to the list and inserting in the csv file"
   ]
  },
  {
   "cell_type": "code",
   "execution_count": 6,
   "id": "983d97c4",
   "metadata": {},
   "outputs": [],
   "source": [
    "with open('get.csv', 'w', encoding='utf8', newline='') as f:\n",
    "    thewriter = writer(f)\n",
    "    header = ['Title', 'Location', 'Price', 'Area']\n",
    "    thewriter.writerow(header)\n",
    "\n",
    "    for list in AllData:\n",
    "        title = list.find('a', class_=\"listing-search-item__link--title\").text.replace('\\n', '')\n",
    "        location = list.find('div', class_=\"listing-search-item__sub-title\").text.replace('\\n', '')\n",
    "        price = list.find('div', class_=\"listing-search-item__price\").text.replace('\\n', '')\n",
    "        area = list.find('li', class_=\"illustrated-features__item illustrated-features__item--surface-area\").text.replace('\\n', '')\n",
    "        \n",
    "        info = [title, location, price, area]\n",
    "        thewriter.writerow(info)"
   ]
  },
  {
   "cell_type": "code",
   "execution_count": null,
   "id": "9c6345e6",
   "metadata": {},
   "outputs": [],
   "source": []
  }
 ],
 "metadata": {
  "kernelspec": {
   "display_name": "Python 3 (ipykernel)",
   "language": "python",
   "name": "python3"
  },
  "language_info": {
   "codemirror_mode": {
    "name": "ipython",
    "version": 3
   },
   "file_extension": ".py",
   "mimetype": "text/x-python",
   "name": "python",
   "nbconvert_exporter": "python",
   "pygments_lexer": "ipython3",
   "version": "3.9.12"
  }
 },
 "nbformat": 4,
 "nbformat_minor": 5
}
